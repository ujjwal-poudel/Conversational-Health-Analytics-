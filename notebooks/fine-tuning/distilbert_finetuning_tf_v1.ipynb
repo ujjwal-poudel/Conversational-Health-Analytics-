{
 "cells": [
  {
   "cell_type": "code",
   "execution_count": 2,
   "id": "0a106940",
   "metadata": {},
   "outputs": [],
   "source": [
    "import pandas as pd\n",
    "import re\n",
    "from pathlib import Path\n",
    "from typing import Optional, Tuple\n",
    "import matplotlib.pyplot as plt\n",
    "import seaborn as sns"
   ]
  },
  {
   "cell_type": "code",
   "execution_count": 10,
   "id": "e4a98e00",
   "metadata": {},
   "outputs": [],
   "source": [
    "def load_and_prepare_data(data_path: Path, text_column: str = 'text', label_column: str = 'PHQ8_Binary') -> Optional[Tuple[pd.Series, pd.Series]]:\n",
    "    \"\"\"\n",
    "    Loads a dataset from a CSV file and prepares it for model training.\n",
    "\n",
    "    This function reads a CSV file, validates the required columns, and separates\n",
    "    the features (text) from the labels.\n",
    "\n",
    "    Args:\n",
    "        data_path (Path): The full path to the input CSV file.\n",
    "        text_column (str): The name of the column containing the text data.\n",
    "        label_column (str): The name of the column containing the labels.\n",
    "\n",
    "    Returns:\n",
    "        Optional[Tuple[pd.Series, pd.Series]]: A tuple containing two pandas Series \n",
    "                                               (X_data, y_data) if successful. \n",
    "                                               Returns None if an error occurs.\n",
    "    \"\"\"\n",
    "    # Validates the file path\n",
    "    if not data_path.is_file():\n",
    "        print(f\"Error: The file was not found at the specified path: {data_path}\")\n",
    "        return None\n",
    "\n",
    "    # Loads the dataset\n",
    "    try:\n",
    "        df = pd.read_csv(data_path)\n",
    "    except Exception as e:\n",
    "        print(f\"Error: Failed to read the CSV file. Details: {e}\")\n",
    "        return None\n",
    "\n",
    "    # Validates required columns\n",
    "    if text_column not in df.columns or label_column not in df.columns:\n",
    "        print(f\"Error: The required columns ('{text_column}', '{label_column}') were not found.\")\n",
    "        return None\n",
    "\n",
    "    # Separates features and labels\n",
    "    X_data = df[text_column]\n",
    "    y_data = df[label_column]\n",
    "\n",
    "    print(f\"Data loaded successfully. Found {len(df)} records.\")\n",
    "    \n",
    "    return X_data, y_data"
   ]
  },
  {
   "cell_type": "code",
   "execution_count": 11,
   "id": "3695afdf",
   "metadata": {},
   "outputs": [
    {
     "name": "stdout",
     "output_type": "stream",
     "text": [
      "Data loaded successfully. Found 107 records.\n",
      "\n",
      "Sample of training features (X_train):\n",
      "0    okay how 'bout yourself here in california yea...\n",
      "1    i'm doing good um from los angeles california ...\n",
      "2    i'm doing alright uh originally i'm from calif...\n",
      "3    yes it's okay <laughter> fine <laughter> i liv...\n",
      "4    yes fine how about you here yes the weather we...\n",
      "Name: text, dtype: object\n",
      "\n",
      "Sample of training labels (y_train):\n",
      "0    0\n",
      "1    0\n",
      "2    0\n",
      "3    0\n",
      "4    0\n",
      "Name: PHQ8_Binary, dtype: int64\n"
     ]
    }
   ],
   "source": [
    "if __name__ == '__main__':\n",
    "    # Loading the training dataset as pandas series\n",
    "    training_data_path = Path('data/final_training_dataset.csv')\n",
    "    \n",
    "    # Calls the function\n",
    "    result = load_and_prepare_data(training_data_path)\n",
    "    \n",
    "    if result:\n",
    "        X_train, y_train = result\n",
    "        print(\"\\nSample of training features (X_train):\")\n",
    "        print(X_train.head())\n",
    "        print(\"\\nSample of training labels (y_train):\")\n",
    "        print(y_train.head())"
   ]
  },
  {
   "cell_type": "code",
   "execution_count": 12,
   "id": "975c3b83",
   "metadata": {},
   "outputs": [
    {
     "name": "stdout",
     "output_type": "stream",
     "text": [
      "Data loaded successfully. Found 35 records.\n",
      "\n",
      "Sample of val features (X_train):\n",
      "0    i'm fine how about yourself  i'm from los ange...\n",
      "1    <laughter> um moscow um my family moved to the...\n",
      "2    yes  okay  connecticut um  to be an actor <lau...\n",
      "3    yes i'm okay  uh i'm from here originally los ...\n",
      "4    yes  i'm okay  here in los angeles  there's a ...\n",
      "Name: text, dtype: object\n",
      "\n",
      "Sample of val labels (y_train):\n",
      "0    0\n",
      "1    0\n",
      "2    0\n",
      "3    1\n",
      "4    1\n",
      "Name: PHQ8_Binary, dtype: int64\n"
     ]
    }
   ],
   "source": [
    "# Loading the validation dataset as pandas series\n",
    "validation_data_path = Path('data/final_dev_dataset.csv')\n",
    "    \n",
    "# Calls the function\n",
    "result = load_and_prepare_data(validation_data_path)\n",
    "    \n",
    "if result:\n",
    "    X_val, y_val = result\n",
    "    print(\"\\nSample of val features (X_train):\")\n",
    "    print(X_val.head())\n",
    "    print(\"\\nSample of val labels (y_train):\")\n",
    "    print(y_val.head())"
   ]
  },
  {
   "cell_type": "code",
   "execution_count": 13,
   "id": "af8f0883",
   "metadata": {},
   "outputs": [],
   "source": [
    "def clean_text(X: pd.Series) -> pd.Series:\n",
    "    \"\"\"\n",
    "    Performs basic preprocessing on a pandas Series of text.\n",
    "    - Converts text to lowercase.\n",
    "    - Removes special characters.\n",
    "    - Removes extra whitespace.\n",
    "    \n",
    "    Args:\n",
    "        X (pd.Series): The raw text Series to preprocess.\n",
    "    \n",
    "    Returns:\n",
    "        pd.Series: The processed text Series.\n",
    "    \"\"\"\n",
    "    # Ensures all data is treated as a string, then convert to lowercase\n",
    "    processed_series = X.astype(str).str.lower()\n",
    "    \n",
    "    # Replaces any character that is not a letter, number, or whitespace with a space\n",
    "    processed_series = processed_series.str.replace(r'[^a-zA-Z0-9\\s]', ' ', regex=True)\n",
    "    \n",
    "    # Replaces multiple whitespace characters with a single space and strip leading/trailing spaces\n",
    "    processed_series = processed_series.str.replace(r'\\s+', ' ', regex=True).str.strip()\n",
    "    \n",
    "    return processed_series\n"
   ]
  },
  {
   "cell_type": "code",
   "execution_count": 41,
   "id": "2c48cc69",
   "metadata": {},
   "outputs": [
    {
     "name": "stdout",
     "output_type": "stream",
     "text": [
      "<bound method NDFrame.head of 0      okay how bout yourself here in california yeah...\n",
      "1      i m doing good um from los angeles california ...\n",
      "2      i m doing alright uh originally i m from calif...\n",
      "3      yes it s okay laughter fine laughter i live in...\n",
      "4      yes fine how about you here yes the weather we...\n",
      "                             ...                        \n",
      "102    synch yes i m not bad i m a little tired but o...\n",
      "103    synch yes i m feel great i am from saint louis...\n",
      "104    synch yes i m fine thank you detroit michigan ...\n",
      "105    synch yes fine oh san fernando valley uh well ...\n",
      "106    synch yes huh overwhelmed i have a funeral to ...\n",
      "Name: text, Length: 107, dtype: object>\n",
      "type of X_train_cleaned: <class 'pandas.core.series.Series'>\n"
     ]
    }
   ],
   "source": [
    "X_train_cleaned = clean_text(X_train)\n",
    "print(X_train_cleaned.head)\n",
    "print(f\"type of X_train_cleaned: {type(X_train_cleaned)}\")"
   ]
  },
  {
   "cell_type": "markdown",
   "id": "0188ad0d",
   "metadata": {},
   "source": [
    "# 4. Preprocessing for DistilBERT: Tokenization\n",
    "The next step is to prepare our text data for the DistilBERT model. Unlike our baseline model, transformers require a specific tokenization process. We will use the pre-trained `DistilBertTokenizer` to convert our text into numerical inputs that the model expects.\n",
    "\n",
    "First, let's load the tokenizer and test it on a few sample sentences from our training data to understand its output."
   ]
  },
  {
   "cell_type": "code",
   "execution_count": 15,
   "id": "26075406",
   "metadata": {},
   "outputs": [
    {
     "name": "stdout",
     "output_type": "stream",
     "text": [
      "(107,)\n"
     ]
    }
   ],
   "source": [
    "print(X_train.shape)"
   ]
  },
  {
   "cell_type": "code",
   "execution_count": 16,
   "id": "c62c3106",
   "metadata": {},
   "outputs": [
    {
     "name": "stdout",
     "output_type": "stream",
     "text": [
      "(107,)\n"
     ]
    }
   ],
   "source": [
    "print(X_train_cleaned.shape)"
   ]
  },
  {
   "cell_type": "code",
   "execution_count": 3,
   "id": "ecc4c398",
   "metadata": {},
   "outputs": [
    {
     "name": "stderr",
     "output_type": "stream",
     "text": [
      "/Users/ujjwalpoudel/Documents/insane_projects/Conversational-Health-Analytics-/venv/lib/python3.11/site-packages/tqdm/auto.py:21: TqdmWarning: IProgress not found. Please update jupyter and ipywidgets. See https://ipywidgets.readthedocs.io/en/stable/user_install.html\n",
      "  from .autonotebook import tqdm as notebook_tqdm\n"
     ]
    }
   ],
   "source": [
    "from transformers import DistilBertTokenizer\n",
    "import tensorflow as tf"
   ]
  },
  {
   "cell_type": "code",
   "execution_count": 17,
   "id": "fa43ae59",
   "metadata": {},
   "outputs": [],
   "source": [
    "tokenizer = DistilBertTokenizer.from_pretrained('distilbert-base-uncased')"
   ]
  },
  {
   "cell_type": "code",
   "execution_count": 22,
   "id": "4c17d41a",
   "metadata": {},
   "outputs": [
    {
     "name": "stdout",
     "output_type": "stream",
     "text": [
      "\n",
      "Sample Texts\n",
      "1: okay how bout yourself here in california yeah oh well that it s big and broad there s a lot to do a...\n",
      "2: i m doing good um from los angeles california um the cool weather the beaches the people the schools...\n",
      "3: i m doing alright uh originally i m from california uh born in glendale i m not too happy with it uh...\n"
     ]
    }
   ],
   "source": [
    "sample_texts = X_train_cleaned.head(3).tolist()\n",
    "print(\"\\nSample Texts\")\n",
    "for i, text in enumerate(sample_texts):\n",
    "    # Prints a snippet of the text\n",
    "    print(f\"{i+1}: {text[:100]}...\")"
   ]
  },
  {
   "cell_type": "code",
   "execution_count": 23,
   "id": "04ae1c1b",
   "metadata": {},
   "outputs": [
    {
     "name": "stderr",
     "output_type": "stream",
     "text": [
      "TensorFlow and JAX classes are deprecated and will be removed in Transformers v5. We recommend migrating to PyTorch classes or pinning your version of Transformers.\n"
     ]
    }
   ],
   "source": [
    "tokenized_output = tokenizer(\n",
    "    sample_texts, \n",
    "    padding=True, \n",
    "    truncation=True,\n",
    "    max_length=512, # Explicitly setting a max length\n",
    "    return_tensors='tf'\n",
    ")"
   ]
  },
  {
   "cell_type": "code",
   "execution_count": 24,
   "id": "1f70261e",
   "metadata": {},
   "outputs": [
    {
     "name": "stdout",
     "output_type": "stream",
     "text": [
      "\n",
      "Tokenizer Output\n",
      "\n",
      "input_ids:\n",
      "[[ 101 3100 2129 ... 2128 1996  102]\n",
      " [ 101 1045 1049 ... 2123 1056  102]\n",
      " [ 101 1045 1049 ... 3470 2008  102]]\n",
      "\n",
      "attention_mask:\n",
      "[[1 1 1 ... 1 1 1]\n",
      " [1 1 1 ... 1 1 1]\n",
      " [1 1 1 ... 1 1 1]]\n"
     ]
    }
   ],
   "source": [
    "# Inspecting the tokenizer\n",
    "print(\"\\nTokenizer Output\")\n",
    "for key, value in tokenized_output.items():\n",
    "    print(f\"\\n{key}:\")\n",
    "    print(value.numpy())"
   ]
  },
  {
   "cell_type": "code",
   "execution_count": 30,
   "id": "7562010d",
   "metadata": {},
   "outputs": [
    {
     "name": "stderr",
     "output_type": "stream",
     "text": [
      "Token indices sequence length is longer than the specified maximum sequence length for this model (2093 > 512). Running this sequence through the model will result in indexing errors\n"
     ]
    },
    {
     "name": "stdout",
     "output_type": "stream",
     "text": [
      "--- Token Length Analysis ---\n",
      "count     107.000000\n",
      "mean     1485.598131\n",
      "std       835.808397\n",
      "min       187.000000\n",
      "25%       852.000000\n",
      "50%      1296.000000\n",
      "75%      1854.500000\n",
      "max      4352.000000\n",
      "dtype: float64\n",
      "\n",
      "Number of interviews with more than 512 tokens: 103 (96.26%)\n"
     ]
    },
    {
     "data": {
      "image/png": "[encoded data removed]",
      "text/plain": [
       "<Figure size 1200x600 with 1 Axes>"
      ]
     },
     "metadata": {},
     "output_type": "display_data"
    }
   ],
   "source": [
    "def analyze_token_length_from_series(text_series: pd.Series):\n",
    "    \"\"\"\n",
    "    Analyzes and plots the distribution of token lengths from a pandas Series.\n",
    "\n",
    "    Args:\n",
    "        text_series (pd.Series): The input pandas Series containing text documents.\n",
    "    \"\"\"\n",
    "    # Load the tokenizer\n",
    "    tokenizer = DistilBertTokenizer.from_pretrained('distilbert-base-uncased')\n",
    "\n",
    "    # Calculate the number of tokens for each document in the Series\n",
    "    token_lengths = [len(tokenizer.encode(str(text))) for text in text_series]\n",
    "\n",
    "    # Convert to a pandas Series for easy analysis\n",
    "    token_lengths_series = pd.Series(token_lengths)\n",
    "\n",
    "    # --- Analysis ---\n",
    "    print(\"--- Token Length Analysis ---\")\n",
    "    print(token_lengths_series.describe())\n",
    "\n",
    "    # Find how many are over the 512 token limit\n",
    "    num_long_texts = (token_lengths_series > 512).sum()\n",
    "    percentage = (num_long_texts / len(token_lengths_series)) * 100\n",
    "\n",
    "    print(f\"\\nNumber of interviews with more than 512 tokens: {num_long_texts} ({percentage:.2f}%)\")\n",
    "\n",
    "    # --- Visualization ---\n",
    "    plt.figure(figsize=(12, 6))\n",
    "    sns.histplot(token_lengths_series, bins=50, kde=True)\n",
    "    plt.title('Distribution of Interview Length in Tokens', fontsize=16)\n",
    "    plt.xlabel('Number of Tokens', fontsize=12)\n",
    "    plt.ylabel('Number of Interviews', fontsize=12)\n",
    "    # Add a vertical line at the 512 token limit for reference\n",
    "    plt.axvline(x=512, color='red', linestyle='--', label='Max Length (512 tokens)')\n",
    "    plt.legend()\n",
    "    plt.show()\n",
    "\n",
    "\n",
    "analyze_token_length_from_series(X_train_cleaned)"
   ]
  },
  {
   "cell_type": "code",
   "execution_count": 31,
   "id": "63f4d529",
   "metadata": {},
   "outputs": [
    {
     "data": {
      "text/plain": [
       "pandas.core.series.Series"
      ]
     },
     "execution_count": 31,
     "metadata": {},
     "output_type": "execute_result"
    }
   ],
   "source": [
    "type(X_train_cleaned)"
   ]
  },
  {
   "cell_type": "code",
   "execution_count": 4,
   "id": "756e8ee0",
   "metadata": {},
   "outputs": [],
   "source": [
    "from transformers import DistilBertTokenizer, TFDistilBertModel\n",
    "from typing import List, Tuple"
   ]
  },
  {
   "cell_type": "code",
   "execution_count": 5,
   "id": "0f14374f",
   "metadata": {},
   "outputs": [],
   "source": [
    "def create_text_chunks(text: str, tokenizer: DistilBertTokenizer, \n",
    "    chunk_size: int = 512, \n",
    "    overlap: int = 50) -> List[str]:\n",
    "    \"\"\"\n",
    "    Splits a long text into smaller, overlapping chunks based on tokens.\n",
    "\n",
    "    Args:\n",
    "        text (str): The long text document to be chunked.\n",
    "        tokenizer (DistilBertTokenizer): The tokenizer to use for splitting the text.\n",
    "        chunk_size (int): The target size of each chunk in tokens.\n",
    "        overlap (int): The number of tokens to overlap between chunks.\n",
    "\n",
    "    Returns:\n",
    "        List[str]: A list of text strings, where each string is a chunk.\n",
    "    \"\"\"\n",
    "    # Tokenize the entire text to get a list of token IDs\n",
    "    tokens = tokenizer.encode(text, add_special_tokens=False)\n",
    "    \n",
    "    # If the text is short enough, no chunking is needed\n",
    "    if len(tokens) <= chunk_size:\n",
    "        return [text]\n",
    "\n",
    "    # Calculate the step size for sliding the window\n",
    "    step_size = chunk_size - overlap\n",
    "    \n",
    "    chunks = []\n",
    "    # Slide a window over the list of tokens\n",
    "    for i in range(0, len(tokens) - overlap, step_size):\n",
    "        chunk_tokens = tokens[i:i + chunk_size]\n",
    "        # Convert the token chunk back into a string for the tokenizer to process later\n",
    "        chunk_text = tokenizer.decode(chunk_tokens)\n",
    "        chunks.append(chunk_text)\n",
    "        \n",
    "    return chunks"
   ]
  },
  {
   "cell_type": "code",
   "execution_count": 6,
   "id": "906997f6",
   "metadata": {},
   "outputs": [],
   "source": [
    "def create_chunk_dataset(\n",
    "    df: pd.DataFrame, \n",
    "    tokenizer: DistilBertTokenizer\n",
    ") -> pd.DataFrame:\n",
    "    \"\"\"\n",
    "    Creates a new DataFrame where each row is a text chunk, associated with\n",
    "    the original document's label.\n",
    "\n",
    "    Args:\n",
    "        df (pd.DataFrame): DataFrame with 'text' and 'PHQ8_Binary' columns.\n",
    "        tokenizer (DistilBertTokenizer): The tokenizer for chunking.\n",
    "\n",
    "    Returns:\n",
    "        pd.DataFrame: A new DataFrame with 'chunk_text' and 'label' columns.\n",
    "    \"\"\"\n",
    "    new_rows = []\n",
    "    # Iterate through each original document (each row in the input df)\n",
    "    for index, row in df.iterrows():\n",
    "        original_text = row['text']\n",
    "        original_label = row['PHQ8_Binary']\n",
    "        \n",
    "        # Create chunks from the original text\n",
    "        text_chunks = create_text_chunks(original_text, tokenizer)\n",
    "        \n",
    "        # For each chunk, create a new row with the chunk text and the original label\n",
    "        for chunk in text_chunks:\n",
    "            new_rows.append({'chunk_text': chunk, 'label': original_label})\n",
    "            \n",
    "    return pd.DataFrame(new_rows)"
   ]
  },
  {
   "cell_type": "code",
   "execution_count": 7,
   "id": "6f01a80b",
   "metadata": {},
   "outputs": [],
   "source": [
    "def tokenize_and_create_tf_dataset(\n",
    "    df: pd.DataFrame, \n",
    "    tokenizer: DistilBertTokenizer, \n",
    "    max_length: int = 512, \n",
    "    batch_size: int = 16\n",
    ") -> tf.data.Dataset:\n",
    "    \"\"\"\n",
    "    Tokenizes a DataFrame of text chunks and converts it into a TensorFlow Dataset.\n",
    "\n",
    "    Args:\n",
    "        df (pd.DataFrame): DataFrame with 'chunk_text' and 'label' columns.\n",
    "        tokenizer (DistilBertTokenizer): The tokenizer to use.\n",
    "        max_length (int): The maximum token length for padding/truncation.\n",
    "        batch_size (int): The batch size for the TensorFlow dataset.\n",
    "\n",
    "    Returns:\n",
    "        tf.data.Dataset: A batched dataset ready for model training.\n",
    "    \"\"\"\n",
    "    # Tokenize all the text chunks at once\n",
    "    tokenized_output = tokenizer(\n",
    "        df['chunk_text'].tolist(),\n",
    "        padding=True,\n",
    "        truncation=True,\n",
    "        max_length=max_length,\n",
    "        return_tensors='tf'\n",
    "    )\n",
    "    \n",
    "    labels = df['label'].values\n",
    "    \n",
    "    # Create the TensorFlow dataset\n",
    "    dataset = tf.data.Dataset.from_tensor_slices(\n",
    "        (dict(tokenized_output), labels)\n",
    "    )\n",
    "    \n",
    "    # Shuffle and batch the dataset\n",
    "    dataset = dataset.shuffle(len(df)).batch(batch_size)\n",
    "    \n",
    "    return dataset"
   ]
  },
  {
   "cell_type": "code",
   "execution_count": 9,
   "id": "fff8a4c1",
   "metadata": {},
   "outputs": [],
   "source": [
    "def build_distilbert_classifier(max_length: int = 512):\n",
    "    \"\"\"\n",
    "    Builds a Keras model with a pre-trained DistilBERT base and a classification head.\n",
    "\n",
    "    Args:\n",
    "        max_length (int): The maximum sequence length the model expects.\n",
    "\n",
    "    Returns:\n",
    "        tf.keras.Model: The compiled Keras model.\n",
    "    \"\"\"\n",
    "    # Defines the input layers\n",
    "    input_ids = tf.keras.layers.Input(shape=(max_length,), dtype=tf.int32, name='input_ids')\n",
    "    attention_mask = tf.keras.layers.Input(shape=(max_length,), dtype=tf.int32, name='attention_mask')\n",
    "    \n",
    "    # Load the pre-trained DistilBERT model\n",
    "    distilbert_base = TFDistilBertModel.from_pretrained('distilbert-base-uncased')\n",
    "    distilbert_base.trainable = True  # We want to fine-tune the model\n",
    "    \n",
    "    # Get the model's output\n",
    "    transformer_output = distilbert_base(input_ids, attention_mask=attention_mask)[0]\n",
    "    \n",
    "    # The [CLS] token output is a good representation of the entire sequence\n",
    "    cls_token_output = transformer_output[:, 0, :]\n",
    "    \n",
    "    # Add a classification head\n",
    "    x = tf.keras.layers.Dropout(0.2)(cls_token_output)\n",
    "    output = tf.keras.layers.Dense(1, activation='sigmoid')(x)\n",
    "    \n",
    "    # Create the final model\n",
    "    model = tf.keras.Model(inputs=[input_ids, attention_mask], outputs=output)\n",
    "    \n",
    "    # Compile the model\n",
    "    model.compile(\n",
    "        optimizer=tf.keras.optimizers.Adam(learning_rate=2e-5),\n",
    "        loss=tf.keras.losses.BinaryCrossentropy(),\n",
    "        metrics=['accuracy']\n",
    "    )\n",
    "    \n",
    "    return model"
   ]
  },
  {
   "cell_type": "code",
   "execution_count": 10,
   "id": "a6c8b0b3",
   "metadata": {},
   "outputs": [],
   "source": [
    "def clean_text(text: str) -> str:\n",
    "    \"\"\"\n",
    "    Performs gentle text cleaning for NLP models.\n",
    "    - Converts text to lowercase.\n",
    "    - Removes special characters, replacing them with a space.\n",
    "    - Removes extra whitespace.\n",
    "\n",
    "    Args:\n",
    "        text (str): The input text string.\n",
    "\n",
    "    Returns:\n",
    "        str: The cleaned text string.\n",
    "    \"\"\"\n",
    "    text = str(text).lower()  # Convert to lowercase\n",
    "    # Replace any character that is not a letter, number, or whitespace with a space\n",
    "    text = re.sub(r'[^a-zA-Z0-9\\s]', ' ', text)\n",
    "    # Replace multiple whitespace characters with a single space\n",
    "    text = re.sub(r'\\s+', ' ', text).strip()\n",
    "    return text"
   ]
  },
  {
   "cell_type": "code",
   "execution_count": 11,
   "id": "5b6478fc",
   "metadata": {},
   "outputs": [],
   "source": [
    "def load_and_clean_dataset(data_path: Path) -> Optional[pd.DataFrame]:\n",
    "    \"\"\"\n",
    "    Loads a dataset from a CSV file and applies basic text cleaning.\n",
    "\n",
    "    Args:\n",
    "        data_path (Path): The full path to the input CSV file.\n",
    "\n",
    "    Returns:\n",
    "        Optional[pd.DataFrame]: The loaded and cleaned DataFrame, or None if an error occurs.\n",
    "    \"\"\"\n",
    "    if not data_path.is_file():\n",
    "        print(f\"Error: The file was not found at the specified path: {data_path}\")\n",
    "        return None\n",
    "\n",
    "    try:\n",
    "        df = pd.read_csv(data_path)\n",
    "        print(f\"Successfully loaded {len(df)} records from {data_path.name}.\")\n",
    "        \n",
    "        # --- Apply the cleaning function ---\n",
    "        print(\"Applying text cleaning...\")\n",
    "        df['cleaned_text'] = df['text'].apply(clean_text)\n",
    "        print(\"Text cleaning complete.\")\n",
    "        \n",
    "        return df\n",
    "        \n",
    "    except Exception as e:\n",
    "        print(f\"An error occurred: {e}\")\n",
    "        return None"
   ]
  },
  {
   "cell_type": "code",
   "execution_count": 12,
   "id": "471c27bf",
   "metadata": {},
   "outputs": [
    {
     "name": "stderr",
     "output_type": "stream",
     "text": [
      "/Users/ujjwalpoudel/Documents/insane_projects/Conversational-Health-Analytics-/venv/lib/python3.11/site-packages/transformers/tokenization_utils_base.py:1601: FutureWarning: `clean_up_tokenization_spaces` was not set. It will be set to `True` by default. This behavior will be depracted in transformers v4.45, and will be then set to `False` by default. For more details check this issue: https://github.com/huggingface/transformers/issues/31884\n",
      "  warnings.warn(\n",
      "Token indices sequence length is longer than the specified maximum sequence length for this model (639 > 512). Running this sequence through the model will result in indexing errors\n"
     ]
    },
    {
     "name": "stdout",
     "output_type": "stream",
     "text": [
      "Successfully loaded 107 records from final_training_dataset.csv.\n",
      "Applying text cleaning...\n",
      "Text cleaning complete.\n",
      "--- 1. Starting with 5 sample documents ---\n",
      "     participant_id                                               text  \\\n",
      "0               303  okay how 'bout yourself here in california yea...   \n",
      "1               304  i'm doing good um from los angeles california ...   \n",
      "2               305  i'm doing alright uh originally i'm from calif...   \n",
      "3               310  yes it's okay <laughter> fine <laughter> i liv...   \n",
      "4               312  yes fine how about you here yes the weather we...   \n",
      "..              ...                                                ...   \n",
      "102             485  <synch> yes i'm not bad i'm a little tired but...   \n",
      "103             486  <synch> yes i'm feel great i am from saint lou...   \n",
      "104             487  <synch> yes i'm fine thank you detroit michiga...   \n",
      "105             488  <synch> yes fine oh san fernando valley uh wel...   \n",
      "106             491  <synch> yes huh overwhelmed i have a funeral t...   \n",
      "\n",
      "     PHQ8_Binary                                       cleaned_text  \n",
      "0              0  okay how bout yourself here in california yeah...  \n",
      "1              0  i m doing good um from los angeles california ...  \n",
      "2              0  i m doing alright uh originally i m from calif...  \n",
      "3              0  yes it s okay laughter fine laughter i live in...  \n",
      "4              0  yes fine how about you here yes the weather we...  \n",
      "..           ...                                                ...  \n",
      "102            0  synch yes i m not bad i m a little tired but o...  \n",
      "103            0  synch yes i m feel great i am from saint louis...  \n",
      "104            0  synch yes i m fine thank you detroit michigan ...  \n",
      "105            0  synch yes fine oh san fernando valley uh well ...  \n",
      "106            0  synch yes huh overwhelmed i have a funeral to ...  \n",
      "\n",
      "[107 rows x 4 columns]\n",
      "\n",
      "--- 2. Creating chunk-based dataset ---\n",
      "Created 13 chunks from 5 documents.\n",
      "                                          chunk_text  label\n",
      "0  < synch > yes good it's been a nice day the so...      0\n",
      "1  a lot of stuff into action so i've been trying...      0\n",
      "2  < sync > yeah i'm okay burbank california yeah...      1\n",
      "3  just how we kind of messed it up and crossed s...      1\n",
      "4  and when i finally was gonna kill myself i rea...      1\n",
      "\n",
      "--- 3. Tokenizing and creating TensorFlow dataset ---\n",
      "TensorFlow dataset created successfully.\n",
      "\n",
      "--- 4. Building the model ---\n"
     ]
    },
    {
     "name": "stderr",
     "output_type": "stream",
     "text": [
      "2025-10-08 03:23:21.823510: I metal_plugin/src/device/metal_device.cc:1154] Metal device set to: Apple M3\n",
      "2025-10-08 03:23:21.823549: I metal_plugin/src/device/metal_device.cc:296] systemMemory: 8.00 GB\n",
      "2025-10-08 03:23:21.823567: I metal_plugin/src/device/metal_device.cc:313] maxCacheSize: 2.67 GB\n",
      "2025-10-08 03:23:21.823759: I tensorflow/core/common_runtime/pluggable_device/pluggable_device_factory.cc:306] Could not identify NUMA node of platform GPU ID 0, defaulting to 0. Your kernel may not have been built with NUMA support.\n",
      "2025-10-08 03:23:21.824041: I tensorflow/core/common_runtime/pluggable_device/pluggable_device_factory.cc:272] Created TensorFlow device (/job:localhost/replica:0/task:0/device:GPU:0 with 0 MB memory) -> physical PluggableDevice (device: 0, name: METAL, pci bus id: <undefined>)\n"
     ]
    },
    {
     "ename": "RecursionError",
     "evalue": "maximum recursion depth exceeded while calling a Python object",
     "output_type": "error",
     "traceback": [
      "\u001b[31m---------------------------------------------------------------------------\u001b[39m",
      "\u001b[31mRecursionError\u001b[39m                            Traceback (most recent call last)",
      "\u001b[36mCell\u001b[39m\u001b[36m \u001b[39m\u001b[32mIn[12]\u001b[39m\u001b[32m, line 23\u001b[39m\n\u001b[32m     21\u001b[39m \u001b[38;5;66;03m# --- Model Training ---\u001b[39;00m\n\u001b[32m     22\u001b[39m \u001b[38;5;28mprint\u001b[39m(\u001b[33m\"\u001b[39m\u001b[38;5;130;01m\\n\u001b[39;00m\u001b[33m--- 4. Building the model ---\u001b[39m\u001b[33m\"\u001b[39m)\n\u001b[32m---> \u001b[39m\u001b[32m23\u001b[39m model = \u001b[43mbuild_distilbert_classifier\u001b[49m\u001b[43m(\u001b[49m\u001b[43m)\u001b[49m\n\u001b[32m     24\u001b[39m model.summary()\n\u001b[32m     26\u001b[39m \u001b[38;5;28mprint\u001b[39m(\u001b[33m\"\u001b[39m\u001b[38;5;130;01m\\n\u001b[39;00m\u001b[33m--- 5. Starting model training (on the 5-document sample) ---\u001b[39m\u001b[33m\"\u001b[39m)\n",
      "\u001b[36mCell\u001b[39m\u001b[36m \u001b[39m\u001b[32mIn[9]\u001b[39m\u001b[32m, line 12\u001b[39m, in \u001b[36mbuild_distilbert_classifier\u001b[39m\u001b[34m(max_length)\u001b[39m\n\u001b[32m      2\u001b[39m \u001b[38;5;250m\u001b[39m\u001b[33;03m\"\"\"\u001b[39;00m\n\u001b[32m      3\u001b[39m \u001b[33;03mBuilds a Keras model with a pre-trained DistilBERT base and a classification head.\u001b[39;00m\n\u001b[32m      4\u001b[39m \n\u001b[32m   (...)\u001b[39m\u001b[32m      9\u001b[39m \u001b[33;03m    tf.keras.Model: The compiled Keras model.\u001b[39;00m\n\u001b[32m     10\u001b[39m \u001b[33;03m\"\"\"\u001b[39;00m\n\u001b[32m     11\u001b[39m \u001b[38;5;66;03m# Defines the input layers\u001b[39;00m\n\u001b[32m---> \u001b[39m\u001b[32m12\u001b[39m input_ids = \u001b[43mtf\u001b[49m\u001b[43m.\u001b[49m\u001b[43mkeras\u001b[49m\u001b[43m.\u001b[49m\u001b[43mlayers\u001b[49m.Input(shape=(max_length,), dtype=tf.int32, name=\u001b[33m'\u001b[39m\u001b[33minput_ids\u001b[39m\u001b[33m'\u001b[39m)\n\u001b[32m     13\u001b[39m attention_mask = tf.keras.layers.Input(shape=(max_length,), dtype=tf.int32, name=\u001b[33m'\u001b[39m\u001b[33mattention_mask\u001b[39m\u001b[33m'\u001b[39m)\n\u001b[32m     15\u001b[39m \u001b[38;5;66;03m# Load the pre-trained DistilBERT model\u001b[39;00m\n",
      "\u001b[36mFile \u001b[39m\u001b[32m~/Documents/insane_projects/Conversational-Health-Analytics-/venv/lib/python3.11/site-packages/tensorflow/python/util/lazy_loader.py:170\u001b[39m, in \u001b[36mKerasLazyLoader.__getattr__\u001b[39m\u001b[34m(self, item)\u001b[39m\n\u001b[32m    165\u001b[39m   \u001b[38;5;28;01melif\u001b[39;00m (\u001b[38;5;28mself\u001b[39m._submodule \u001b[38;5;129;01mand\u001b[39;00m\n\u001b[32m    166\u001b[39m         \u001b[38;5;28mself\u001b[39m._submodule.startswith(\u001b[33m\"\u001b[39m\u001b[33m__internal__.legacy.\u001b[39m\u001b[33m\"\u001b[39m)):\n\u001b[32m    167\u001b[39m     \u001b[38;5;28;01mraise\u001b[39;00m \u001b[38;5;167;01mAttributeError\u001b[39;00m(\n\u001b[32m    168\u001b[39m         \u001b[33mf\u001b[39m\u001b[33m\"\u001b[39m\u001b[33m`\u001b[39m\u001b[38;5;132;01m{\u001b[39;00mitem\u001b[38;5;132;01m}\u001b[39;00m\u001b[33m` is not available with Keras 3.\u001b[39m\u001b[33m\"\u001b[39m\n\u001b[32m    169\u001b[39m     )\n\u001b[32m--> \u001b[39m\u001b[32m170\u001b[39m module = \u001b[38;5;28;43mself\u001b[39;49m\u001b[43m.\u001b[49m\u001b[43m_load\u001b[49m\u001b[43m(\u001b[49m\u001b[43m)\u001b[49m\n\u001b[32m    171\u001b[39m \u001b[38;5;28;01mreturn\u001b[39;00m \u001b[38;5;28mgetattr\u001b[39m(module, item)\n",
      "\u001b[36mFile \u001b[39m\u001b[32m~/Documents/insane_projects/Conversational-Health-Analytics-/venv/lib/python3.11/site-packages/tensorflow/python/util/lazy_loader.py:50\u001b[39m, in \u001b[36mLazyLoader._load\u001b[39m\u001b[34m(self)\u001b[39m\n\u001b[32m     48\u001b[39m \u001b[38;5;250m\u001b[39m\u001b[33;03m\"\"\"Load the module and insert it into the parent's globals.\"\"\"\u001b[39;00m\n\u001b[32m     49\u001b[39m \u001b[38;5;66;03m# Import the target module and insert it into the parent's namespace\u001b[39;00m\n\u001b[32m---> \u001b[39m\u001b[32m50\u001b[39m module = importlib.import_module(\u001b[38;5;28;43mself\u001b[39;49m\u001b[43m.\u001b[49m\u001b[34;43m__name__\u001b[39;49m)\n\u001b[32m     51\u001b[39m \u001b[38;5;28mself\u001b[39m._parent_module_globals[\u001b[38;5;28mself\u001b[39m._local_name] = module\n\u001b[32m     53\u001b[39m \u001b[38;5;66;03m# Emit a warning if one was specified\u001b[39;00m\n",
      "\u001b[36mFile \u001b[39m\u001b[32m~/Documents/insane_projects/Conversational-Health-Analytics-/venv/lib/python3.11/site-packages/tensorflow/python/util/lazy_loader.py:170\u001b[39m, in \u001b[36mKerasLazyLoader.__getattr__\u001b[39m\u001b[34m(self, item)\u001b[39m\n\u001b[32m    165\u001b[39m   \u001b[38;5;28;01melif\u001b[39;00m (\u001b[38;5;28mself\u001b[39m._submodule \u001b[38;5;129;01mand\u001b[39;00m\n\u001b[32m    166\u001b[39m         \u001b[38;5;28mself\u001b[39m._submodule.startswith(\u001b[33m\"\u001b[39m\u001b[33m__internal__.legacy.\u001b[39m\u001b[33m\"\u001b[39m)):\n\u001b[32m    167\u001b[39m     \u001b[38;5;28;01mraise\u001b[39;00m \u001b[38;5;167;01mAttributeError\u001b[39;00m(\n\u001b[32m    168\u001b[39m         \u001b[33mf\u001b[39m\u001b[33m\"\u001b[39m\u001b[33m`\u001b[39m\u001b[38;5;132;01m{\u001b[39;00mitem\u001b[38;5;132;01m}\u001b[39;00m\u001b[33m` is not available with Keras 3.\u001b[39m\u001b[33m\"\u001b[39m\n\u001b[32m    169\u001b[39m     )\n\u001b[32m--> \u001b[39m\u001b[32m170\u001b[39m module = \u001b[38;5;28;43mself\u001b[39;49m\u001b[43m.\u001b[49m\u001b[43m_load\u001b[49m\u001b[43m(\u001b[49m\u001b[43m)\u001b[49m\n\u001b[32m    171\u001b[39m \u001b[38;5;28;01mreturn\u001b[39;00m \u001b[38;5;28mgetattr\u001b[39m(module, item)\n",
      "\u001b[36mFile \u001b[39m\u001b[32m~/Documents/insane_projects/Conversational-Health-Analytics-/venv/lib/python3.11/site-packages/tensorflow/python/util/lazy_loader.py:50\u001b[39m, in \u001b[36mLazyLoader._load\u001b[39m\u001b[34m(self)\u001b[39m\n\u001b[32m     48\u001b[39m \u001b[38;5;250m\u001b[39m\u001b[33;03m\"\"\"Load the module and insert it into the parent's globals.\"\"\"\u001b[39;00m\n\u001b[32m     49\u001b[39m \u001b[38;5;66;03m# Import the target module and insert it into the parent's namespace\u001b[39;00m\n\u001b[32m---> \u001b[39m\u001b[32m50\u001b[39m module = importlib.import_module(\u001b[38;5;28;43mself\u001b[39;49m\u001b[43m.\u001b[49m\u001b[34;43m__name__\u001b[39;49m)\n\u001b[32m     51\u001b[39m \u001b[38;5;28mself\u001b[39m._parent_module_globals[\u001b[38;5;28mself\u001b[39m._local_name] = module\n\u001b[32m     53\u001b[39m \u001b[38;5;66;03m# Emit a warning if one was specified\u001b[39;00m\n",
      "    \u001b[31m[... skipping similar frames: KerasLazyLoader.__getattr__ at line 170 (1483 times), LazyLoader._load at line 50 (1483 times)]\u001b[39m\n",
      "\u001b[36mFile \u001b[39m\u001b[32m~/Documents/insane_projects/Conversational-Health-Analytics-/venv/lib/python3.11/site-packages/tensorflow/python/util/lazy_loader.py:170\u001b[39m, in \u001b[36mKerasLazyLoader.__getattr__\u001b[39m\u001b[34m(self, item)\u001b[39m\n\u001b[32m    165\u001b[39m   \u001b[38;5;28;01melif\u001b[39;00m (\u001b[38;5;28mself\u001b[39m._submodule \u001b[38;5;129;01mand\u001b[39;00m\n\u001b[32m    166\u001b[39m         \u001b[38;5;28mself\u001b[39m._submodule.startswith(\u001b[33m\"\u001b[39m\u001b[33m__internal__.legacy.\u001b[39m\u001b[33m\"\u001b[39m)):\n\u001b[32m    167\u001b[39m     \u001b[38;5;28;01mraise\u001b[39;00m \u001b[38;5;167;01mAttributeError\u001b[39;00m(\n\u001b[32m    168\u001b[39m         \u001b[33mf\u001b[39m\u001b[33m\"\u001b[39m\u001b[33m`\u001b[39m\u001b[38;5;132;01m{\u001b[39;00mitem\u001b[38;5;132;01m}\u001b[39;00m\u001b[33m` is not available with Keras 3.\u001b[39m\u001b[33m\"\u001b[39m\n\u001b[32m    169\u001b[39m     )\n\u001b[32m--> \u001b[39m\u001b[32m170\u001b[39m module = \u001b[38;5;28;43mself\u001b[39;49m\u001b[43m.\u001b[49m\u001b[43m_load\u001b[49m\u001b[43m(\u001b[49m\u001b[43m)\u001b[49m\n\u001b[32m    171\u001b[39m \u001b[38;5;28;01mreturn\u001b[39;00m \u001b[38;5;28mgetattr\u001b[39m(module, item)\n",
      "\u001b[36mFile \u001b[39m\u001b[32m~/Documents/insane_projects/Conversational-Health-Analytics-/venv/lib/python3.11/site-packages/tensorflow/python/util/lazy_loader.py:50\u001b[39m, in \u001b[36mLazyLoader._load\u001b[39m\u001b[34m(self)\u001b[39m\n\u001b[32m     48\u001b[39m \u001b[38;5;250m\u001b[39m\u001b[33;03m\"\"\"Load the module and insert it into the parent's globals.\"\"\"\u001b[39;00m\n\u001b[32m     49\u001b[39m \u001b[38;5;66;03m# Import the target module and insert it into the parent's namespace\u001b[39;00m\n\u001b[32m---> \u001b[39m\u001b[32m50\u001b[39m module = importlib.import_module(\u001b[38;5;28;43mself\u001b[39;49m\u001b[43m.\u001b[49m\u001b[34;43m__name__\u001b[39;49m)\n\u001b[32m     51\u001b[39m \u001b[38;5;28mself\u001b[39m._parent_module_globals[\u001b[38;5;28mself\u001b[39m._local_name] = module\n\u001b[32m     53\u001b[39m \u001b[38;5;66;03m# Emit a warning if one was specified\u001b[39;00m\n",
      "\u001b[31mRecursionError\u001b[39m: maximum recursion depth exceeded while calling a Python object"
     ]
    }
   ],
   "source": [
    "if __name__ == '__main__':\n",
    "    training_data_path = Path('/Volumes/MACBACKUP/final_training_dataset.csv')\n",
    "    full_train_df = load_and_clean_dataset(training_data_path)\n",
    "    sample_df = full_train_df.sample(5)\n",
    "\n",
    "    print(\"--- 1. Starting with 5 sample documents ---\")\n",
    "    print(full_train_df)\n",
    "\n",
    "    # Preprocessing\n",
    "    tokenizer = DistilBertTokenizer.from_pretrained('distilbert-base-uncased')\n",
    "\n",
    "    print(\"\\n--- 2. Creating chunk-based dataset ---\")\n",
    "    chunk_df = create_chunk_dataset(sample_df, tokenizer)\n",
    "    print(f\"Created {len(chunk_df)} chunks from {len(sample_df)} documents.\")\n",
    "    print(chunk_df.head())\n",
    "\n",
    "    print(\"\\n--- 3. Tokenizing and creating TensorFlow dataset ---\")\n",
    "    train_dataset = tokenize_and_create_tf_dataset(chunk_df, tokenizer)\n",
    "    print(\"TensorFlow dataset created successfully.\")\n",
    "\n",
    "    # --- Model Training ---\n",
    "    print(\"\\n--- 4. Building the model ---\")\n",
    "    model = build_distilbert_classifier()\n",
    "    model.summary()\n",
    "\n",
    "    print(\"\\n--- 5. Starting model training (on the 5-document sample) ---\")\n",
    "    # For a real run, you would also pass a validation_data argument\n",
    "    history = model.fit(\n",
    "        train_dataset,\n",
    "        epochs=1 \n",
    "    )\n",
    "    print(\"\\nSample training complete.\")"
   ]
  },
  {
   "cell_type": "code",
   "execution_count": null,
   "id": "78ce0c2f",
   "metadata": {},
   "outputs": [],
   "source": []
  },
  {
   "cell_type": "code",
   "execution_count": null,
   "id": "b71785c0",
   "metadata": {},
   "outputs": [],
   "source": []
  }
 ],
 "metadata": {
  "kernelspec": {
   "display_name": "venv",
   "language": "python",
   "name": "python3"
  },
  "language_info": {
   "codemirror_mode": {
    "name": "ipython",
    "version": 3
   },
   "file_extension": ".py",
   "mimetype": "text/x-python",
   "name": "python",
   "nbconvert_exporter": "python",
   "pygments_lexer": "ipython3",
   "version": "3.11.6"
  }
 },
 "nbformat": 4,
 "nbformat_minor": 5
}
